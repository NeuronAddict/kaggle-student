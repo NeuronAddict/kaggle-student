{
 "cells": [
  {
   "cell_type": "code",
   "execution_count": null,
   "id": "initial_id",
   "metadata": {
    "collapsed": true
   },
   "outputs": [],
   "source": "# example notebook"
  },
  {
   "metadata": {
    "ExecuteTime": {
     "end_time": "2024-11-12T01:10:51.552402Z",
     "start_time": "2024-11-12T01:10:50.553456Z"
    }
   },
   "cell_type": "code",
   "source": [
    "import kagglehub\n",
    "\n",
    "# Download latest version\n",
    "path = kagglehub.dataset_download(\"muhammadroshaanriaz/students-performance-dataset-cleaned\")\n",
    "path"
   ],
   "id": "8e18184e57c567f0",
   "outputs": [
    {
     "name": "stderr",
     "output_type": "stream",
     "text": [
      "/home/manu/prog/ai/kaggle-student/venv/lib/python3.10/site-packages/tqdm/auto.py:21: TqdmWarning: IProgress not found. Please update jupyter and ipywidgets. See https://ipywidgets.readthedocs.io/en/stable/user_install.html\n",
      "  from .autonotebook import tqdm as notebook_tqdm\n"
     ]
    },
    {
     "name": "stdout",
     "output_type": "stream",
     "text": [
      "Downloading from https://www.kaggle.com/api/v1/datasets/download/muhammadroshaanriaz/students-performance-dataset-cleaned?dataset_version_number=1...\n"
     ]
    },
    {
     "name": "stderr",
     "output_type": "stream",
     "text": [
      "100%|██████████| 9.94k/9.94k [00:00<00:00, 17.8MB/s]"
     ]
    },
    {
     "name": "stdout",
     "output_type": "stream",
     "text": [
      "Extracting files...\n"
     ]
    },
    {
     "name": "stderr",
     "output_type": "stream",
     "text": [
      "\n"
     ]
    },
    {
     "data": {
      "text/plain": [
       "'/home/manu/.cache/kagglehub/datasets/muhammadroshaanriaz/students-performance-dataset-cleaned/versions/1'"
      ]
     },
     "execution_count": 1,
     "metadata": {},
     "output_type": "execute_result"
    }
   ],
   "execution_count": 1
  },
  {
   "metadata": {
    "ExecuteTime": {
     "end_time": "2024-11-12T01:12:52.164013Z",
     "start_time": "2024-11-12T01:12:52.155015Z"
    }
   },
   "cell_type": "code",
   "source": [
    "import pandas as pd\n",
    "\n",
    "df = pd.read_csv(f'{path}/Cleaned_Students_Performance.csv')"
   ],
   "id": "8b5d8125f4e919b7",
   "outputs": [],
   "execution_count": 4
  },
  {
   "metadata": {
    "ExecuteTime": {
     "end_time": "2024-11-12T01:16:30.173146Z",
     "start_time": "2024-11-12T01:16:30.165148Z"
    }
   },
   "cell_type": "code",
   "source": "df['race_ethnicity'].info()",
   "id": "66fc04da6b316bfd",
   "outputs": [
    {
     "name": "stdout",
     "output_type": "stream",
     "text": [
      "<class 'pandas.core.frame.DataFrame'>\n",
      "RangeIndex: 1000 entries, 0 to 999\n",
      "Data columns (total 10 columns):\n",
      " #   Column                       Non-Null Count  Dtype  \n",
      "---  ------                       --------------  -----  \n",
      " 0   gender                       1000 non-null   int64  \n",
      " 1   race_ethnicity               1000 non-null   object \n",
      " 2   parental_level_of_education  1000 non-null   object \n",
      " 3   lunch                        1000 non-null   int64  \n",
      " 4   test_preparation_course      1000 non-null   int64  \n",
      " 5   math_score                   1000 non-null   int64  \n",
      " 6   reading_score                1000 non-null   int64  \n",
      " 7   writing_score                1000 non-null   int64  \n",
      " 8   total_score                  1000 non-null   int64  \n",
      " 9   average_score                1000 non-null   float64\n",
      "dtypes: float64(1), int64(7), object(2)\n",
      "memory usage: 78.2+ KB\n"
     ]
    }
   ],
   "execution_count": 6
  },
  {
   "metadata": {
    "ExecuteTime": {
     "end_time": "2024-11-12T01:32:56.817671Z",
     "start_time": "2024-11-12T01:32:56.812707Z"
    }
   },
   "cell_type": "code",
   "source": "df['race_ethnicity'].unique(), df['parental_level_of_education'].unique() ",
   "id": "cc7dc022b9fbb602",
   "outputs": [
    {
     "data": {
      "text/plain": [
       "(array(['group B', 'group C', 'group A', 'group D', 'group E'],\n",
       "       dtype=object),\n",
       " array([\"bachelor's degree\", 'some college', \"master's degree\",\n",
       "        \"associate's degree\", 'high school', 'some high school'],\n",
       "       dtype=object))"
      ]
     },
     "execution_count": 8,
     "metadata": {},
     "output_type": "execute_result"
    }
   ],
   "execution_count": 8
  },
  {
   "metadata": {},
   "cell_type": "code",
   "outputs": [],
   "execution_count": null,
   "source": [
    "race_ethnicities = ['group A', 'group B', 'group C', 'group D', 'group E']\n",
    "education_levels = ['some high school', 'high school', 'some college', \"associate's degree\", \"bachelor's degree\", \"master's degree\"]\n",
    "\n"
   ],
   "id": "c307ec8c557cf249"
  },
  {
   "metadata": {},
   "cell_type": "code",
   "outputs": [],
   "execution_count": null,
   "source": "",
   "id": "39c457011f13fa41"
  }
 ],
 "metadata": {
  "kernelspec": {
   "display_name": "Python 3",
   "language": "python",
   "name": "python3"
  },
  "language_info": {
   "codemirror_mode": {
    "name": "ipython",
    "version": 2
   },
   "file_extension": ".py",
   "mimetype": "text/x-python",
   "name": "python",
   "nbconvert_exporter": "python",
   "pygments_lexer": "ipython2",
   "version": "2.7.6"
  }
 },
 "nbformat": 4,
 "nbformat_minor": 5
}
